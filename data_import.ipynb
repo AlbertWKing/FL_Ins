{
 "cells": [
  {
   "cell_type": "markdown",
   "id": "3321b37d",
   "metadata": {},
   "source": [
    "# About Florida Insurance Analysis\n",
    "\n",
    "Book combines historical publicly reported data from the FL department of insurance to evaluate trends in market share, claims frequency/severity, and hurricane losses.\n",
    "\n",
    "Data downloaded from https://apps.fldfs.com/QSRNG/Reports/ReportCriteria.aspx on 04 and 05 April 2025.\n",
    "\n",
    "Environment AKStandard (Python 3.11.9)"
   ]
  },
  {
   "cell_type": "markdown",
   "id": "f5220355",
   "metadata": {},
   "source": [
    "# Imports"
   ]
  },
  {
   "cell_type": "code",
   "execution_count": 30,
   "id": "91451052",
   "metadata": {},
   "outputs": [],
   "source": [
    "import pandas as pd # data ingestion, manipulation\n",
    "from os import listdir # importing raw data\n",
    "import time # I just want to very briefly look at data and have it print for a second to glance at it\n",
    "from IPython.display import clear_output # thanks to ChatGPT - lets me clear printed data"
   ]
  },
  {
   "cell_type": "markdown",
   "id": "c62ce410",
   "metadata": {},
   "source": [
    "# Data Extraction/Ingestion"
   ]
  },
  {
   "cell_type": "markdown",
   "id": "14b78bcc",
   "metadata": {},
   "source": [
    "Outline/Plan\n",
    "\n",
    "function - import, remove grand total\\\n",
    "function - check/remove blank columns\\\n",
    "compile to a single df\\\n",
    "\\\n",
    "future: move to AW S3 bucket, SQL access"
   ]
  },
  {
   "cell_type": "code",
   "execution_count": 3,
   "id": "352bf436",
   "metadata": {},
   "outputs": [],
   "source": [
    "# listdir('./data/raw')[-1]"
   ]
  },
  {
   "cell_type": "code",
   "execution_count": 4,
   "id": "85fb1d81",
   "metadata": {},
   "outputs": [
    {
     "name": "stdout",
     "output_type": "stream",
     "text": [
      "The imported shape is: (214, 65)\n",
      "The last named insurers are:\n",
      "212    TESLA PROPERTY & CASUALTY, INC.\n",
      "213                                NaN\n",
      "Name: Insurer Name, dtype: object\n",
      "\n",
      "The updated shape is: (213, 65)\n",
      "The last named insurers are:\n",
      "211    STATE NATIONAL INSURANCE COMPANY INC.\n",
      "212          TESLA PROPERTY & CASUALTY, INC.\n",
      "Name: Insurer Name, dtype: object\n"
     ]
    }
   ],
   "source": [
    "info = pd.read_excel('./data/raw/2009Q1.xlsx', skiprows = 14)\n",
    "print(f\"The imported shape is: {info.shape}\\nThe last named insurers are:\\n{info.iloc[-2:,1]}\\n\")\n",
    "grand_total_row = info.shape[0] - 1\n",
    "info.drop(grand_total_row, axis=0, inplace=True)\n",
    "print(f\"The updated shape is: {info.shape}\\nThe last named insurers are:\\n{info.iloc[-2:,1]}\")"
   ]
  },
  {
   "cell_type": "code",
   "execution_count": 21,
   "id": "911a1bd3",
   "metadata": {},
   "outputs": [
    {
     "data": {
      "text/plain": [
       "65"
      ]
     },
     "execution_count": 21,
     "metadata": {},
     "output_type": "execute_result"
    }
   ],
   "source": [
    "len(info.columns)"
   ]
  },
  {
   "cell_type": "code",
   "execution_count": 50,
   "id": "e0a85979",
   "metadata": {},
   "outputs": [
    {
     "name": "stdout",
     "output_type": "stream",
     "text": [
      "hi\n"
     ]
    }
   ],
   "source": [
    "test = 'this is a test string thingy line'\n",
    "if \"hi\" in test:\n",
    "    print('hi')"
   ]
  },
  {
   "cell_type": "code",
   "execution_count": null,
   "id": "286a4ad5",
   "metadata": {},
   "outputs": [
    {
     "name": "stdout",
     "output_type": "stream",
     "text": [
      "Iteration 65 Column Unnamed: 64\n",
      " 0      0%\n",
      "1      0%\n",
      "2      0%\n",
      "3      0%\n",
      "4      0%\n",
      "       ..\n",
      "208    0%\n",
      "209    0%\n",
      "210    0%\n",
      "211    0%\n",
      "212    0%\n",
      "Name: Unnamed: 64, Length: 213, dtype: object\n"
     ]
    }
   ],
   "source": [
    "counter = 0\n",
    "for x in info.columns:\n",
    "    counter += 1\n",
    "    clear_output(wait = True)\n",
    "    print(f\"Iteration: {counter} Column: {x}\\n\", info[x])\n",
    "    time.sleep(0.2)"
   ]
  },
  {
   "cell_type": "code",
   "execution_count": 48,
   "id": "de9c3c0e",
   "metadata": {},
   "outputs": [
    {
     "data": {
      "text/plain": [
       "'Unnamed: 4'"
      ]
     },
     "execution_count": 48,
     "metadata": {},
     "output_type": "execute_result"
    }
   ],
   "source": [
    "info.columns[4]"
   ]
  },
  {
   "cell_type": "code",
   "execution_count": 53,
   "id": "5469e8e9",
   "metadata": {},
   "outputs": [
    {
     "name": "stdout",
     "output_type": "stream",
     "text": [
      "Rank\n",
      "Insurer Name\n",
      "Policies In Force\n",
      "Total $ value of exposure for policies in force that include wind coverage\n",
      "Number of policies canceled\n",
      "Number of policies nonrenewed\n",
      "Number of policies canceled due to hurricane risk\n",
      "Number of policies nonrenewed due to hurricane risk\n",
      "Number of new policies written\n",
      "Policies in force that exclude wind coverage\n",
      "Total premiums written\n",
      "Policies in force that include wind coverage\n",
      "Total $ value of exposure for policies in force that exclude wind coverage\n",
      "Direct premium written for policies in force that include wind coverage\n",
      "Direct premium written for policies in force that exclude wind coverage\n",
      "Number of policies transferred to other insurers\n",
      "Number of policies received from other insurers\n",
      "Claims Opened\n",
      "Claims Closed\n",
      "Claims Pending\n",
      "Claims Alternative Dispute\n",
      "Claims with Mediation\n",
      "Claims with Arbitration\n",
      "Claims with Appraisal\n",
      "Claims with Sink Hole Eval\n",
      "Claims with Settlement Conf\n",
      "Claims with Other\n"
     ]
    }
   ],
   "source": [
    "for x in info.columns:\n",
    "    if \"Unnamed\" not in x:\n",
    "        print(x)\n",
    "    else:\n",
    "        pass"
   ]
  },
  {
   "cell_type": "code",
   "execution_count": 32,
   "id": "4dc75c19",
   "metadata": {},
   "outputs": [
    {
     "name": "stdout",
     "output_type": "stream",
     "text": [
      "Item 4\n",
      "\n"
     ]
    }
   ],
   "source": [
    "import time\n",
    "\n",
    "items = [\"Item 1\", \"Item 2\", \"Item 3\", \"Item 4\"]\n",
    "\n",
    "for item in items:\n",
    "    clear_output(wait = True)\n",
    "    print(item)\n",
    "    time.sleep(1)\n",
    "\n",
    "# Optionally move to a new line after the loop\n",
    "print()\n"
   ]
  },
  {
   "cell_type": "code",
   "execution_count": null,
   "id": "d35a39fe",
   "metadata": {},
   "outputs": [
    {
     "ename": "ModuleNotFoundError",
     "evalue": "No module named 'ipywidgets'",
     "output_type": "error",
     "traceback": [
      "\u001b[0;31m---------------------------------------------------------------------------\u001b[0m",
      "\u001b[0;31mModuleNotFoundError\u001b[0m                       Traceback (most recent call last)",
      "Cell \u001b[0;32mIn[34], line 2\u001b[0m\n\u001b[1;32m      1\u001b[0m \u001b[38;5;28;01mfrom\u001b[39;00m \u001b[38;5;21;01mIPython\u001b[39;00m\u001b[38;5;21;01m.\u001b[39;00m\u001b[38;5;21;01mdisplay\u001b[39;00m \u001b[38;5;28;01mimport\u001b[39;00m display, clear_output\n\u001b[0;32m----> 2\u001b[0m \u001b[38;5;28;01mimport\u001b[39;00m \u001b[38;5;21;01mipywidgets\u001b[39;00m \u001b[38;5;28;01mas\u001b[39;00m \u001b[38;5;21;01mwidgets\u001b[39;00m\n\u001b[1;32m      4\u001b[0m items \u001b[38;5;241m=\u001b[39m [\u001b[38;5;124m\"\u001b[39m\u001b[38;5;124mApple\u001b[39m\u001b[38;5;124m\"\u001b[39m, \u001b[38;5;124m\"\u001b[39m\u001b[38;5;124mBanana\u001b[39m\u001b[38;5;124m\"\u001b[39m, \u001b[38;5;124m\"\u001b[39m\u001b[38;5;124mCherry\u001b[39m\u001b[38;5;124m\"\u001b[39m, \u001b[38;5;124m\"\u001b[39m\u001b[38;5;124mDate\u001b[39m\u001b[38;5;124m\"\u001b[39m]\n\u001b[1;32m      5\u001b[0m saved_items \u001b[38;5;241m=\u001b[39m []\n",
      "\u001b[0;31mModuleNotFoundError\u001b[0m: No module named 'ipywidgets'"
     ]
    }
   ],
   "source": [
    "# chatty G getting wild\n",
    "\n",
    "from IPython.display import display, clear_output\n",
    "import ipywidgets as widgets\n",
    "\n",
    "items = [\"Apple\", \"Banana\", \"Cherry\", \"Date\"]\n",
    "saved_items = []\n",
    "index = 0  # Keeps track of which item we're on\n",
    "\n",
    "# Buttons\n",
    "save_button = widgets.Button(description=\"Save\")\n",
    "skip_button = widgets.Button(description=\"Skip\")\n",
    "output = widgets.Output()\n",
    "\n",
    "def handle_click(button):\n",
    "    global index\n",
    "    if button == save_button:\n",
    "        saved_items.append(items[index])\n",
    "    \n",
    "    index += 1\n",
    "    if index < len(items):\n",
    "        show_item()\n",
    "    else:\n",
    "        clear_output()\n",
    "        print(\"Done! Saved items:\", saved_items)\n",
    "\n",
    "def show_item():\n",
    "    clear_output(wait=True)\n",
    "    print(\"Current item:\", items[index])\n",
    "    display(save_button, skip_button)\n",
    "\n",
    "save_button.on_click(handle_click)\n",
    "skip_button.on_click(handle_click)\n",
    "\n",
    "# Start it off\n",
    "show_item()\n"
   ]
  }
 ],
 "metadata": {
  "kernelspec": {
   "display_name": "AKStandard",
   "language": "python",
   "name": "python3"
  },
  "language_info": {
   "codemirror_mode": {
    "name": "ipython",
    "version": 3
   },
   "file_extension": ".py",
   "mimetype": "text/x-python",
   "name": "python",
   "nbconvert_exporter": "python",
   "pygments_lexer": "ipython3",
   "version": "3.11.9"
  }
 },
 "nbformat": 4,
 "nbformat_minor": 5
}
