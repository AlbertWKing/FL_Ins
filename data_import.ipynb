{
 "cells": [
  {
   "cell_type": "markdown",
   "id": "3321b37d",
   "metadata": {},
   "source": [
    "# About Florida Insurance Analysis\n",
    "\n",
    "Book combines historical publicly reported data from the FL department of insurance to evaluate trends in market share, claims frequency/severity, and hurricane losses.\n",
    "\n",
    "Data downloaded from https://apps.fldfs.com/QSRNG/Reports/ReportCriteria.aspx on 04 and 05 April 2025.\n",
    "\n",
    "Environment AKStandard (Python 3.11.9)"
   ]
  },
  {
   "cell_type": "markdown",
   "id": "f5220355",
   "metadata": {},
   "source": [
    "# Imports"
   ]
  },
  {
   "cell_type": "code",
   "execution_count": 30,
   "id": "91451052",
   "metadata": {},
   "outputs": [],
   "source": [
    "import pandas as pd # data ingestion, manipulation\n",
    "from os import listdir # importing raw data\n",
    "import time # I just want to very briefly look at data and have it print for a second to glance at it\n",
    "from IPython.display import clear_output # thanks to ChatGPT - lets me clear printed data"
   ]
  },
  {
   "cell_type": "markdown",
   "id": "c62ce410",
   "metadata": {},
   "source": [
    "# Data Extraction/Ingestion"
   ]
  },
  {
   "cell_type": "markdown",
   "id": "14b78bcc",
   "metadata": {},
   "source": [
    "Outline/Plan\n",
    "\n",
    "function - import, remove grand total\\\n",
    "function - check/remove blank columns\\\n",
    "compile to a single df\\\n",
    "\\\n",
    "future: move to AW S3 bucket, SQL access"
   ]
  },
  {
   "cell_type": "code",
   "execution_count": 92,
   "id": "352bf436",
   "metadata": {},
   "outputs": [],
   "source": [
    "# listdir('./data/raw')[-1]"
   ]
  },
  {
   "cell_type": "code",
   "execution_count": 93,
   "id": "85fb1d81",
   "metadata": {},
   "outputs": [
    {
     "name": "stdout",
     "output_type": "stream",
     "text": [
      "The imported shape is: (214, 65)\n",
      "The last named insurers are:\n",
      "212    TESLA PROPERTY & CASUALTY, INC.\n",
      "213                                NaN\n",
      "Name: Insurer Name, dtype: object\n",
      "\n",
      "The updated shape is: (213, 65)\n",
      "The last named insurers are:\n",
      "211    STATE NATIONAL INSURANCE COMPANY INC.\n",
      "212          TESLA PROPERTY & CASUALTY, INC.\n",
      "Name: Insurer Name, dtype: object\n"
     ]
    }
   ],
   "source": [
    "info = pd.read_excel('./data/raw/2009Q1.xlsx', skiprows = 14)\n",
    "print(f\"The imported shape is: {info.shape}\\nThe last named insurers are:\\n{info.iloc[-2:,1]}\\n\")\n",
    "grand_total_row = info.shape[0] - 1\n",
    "info.drop(grand_total_row, axis=0, inplace=True)\n",
    "print(f\"The updated shape is: {info.shape}\\nThe last named insurers are:\\n{info.iloc[-2:,1]}\")"
   ]
  },
  {
   "cell_type": "code",
   "execution_count": 94,
   "id": "911a1bd3",
   "metadata": {},
   "outputs": [
    {
     "data": {
      "text/plain": [
       "65"
      ]
     },
     "execution_count": 94,
     "metadata": {},
     "output_type": "execute_result"
    }
   ],
   "source": [
    "len(info.columns)"
   ]
  },
  {
   "cell_type": "code",
   "execution_count": 95,
   "id": "e0a85979",
   "metadata": {},
   "outputs": [
    {
     "name": "stdout",
     "output_type": "stream",
     "text": [
      "hi\n"
     ]
    }
   ],
   "source": [
    "test = 'this is a test string thingy line'\n",
    "if \"hi\" in test:\n",
    "    print('hi')"
   ]
  },
  {
   "cell_type": "code",
   "execution_count": 96,
   "id": "286a4ad5",
   "metadata": {},
   "outputs": [
    {
     "name": "stdout",
     "output_type": "stream",
     "text": [
      "Iteration: 65 Column: Unnamed: 64\n",
      " 0      0%\n",
      "1      0%\n",
      "2      0%\n",
      "3      0%\n",
      "4      0%\n",
      "       ..\n",
      "208    0%\n",
      "209    0%\n",
      "210    0%\n",
      "211    0%\n",
      "212    0%\n",
      "Name: Unnamed: 64, Length: 213, dtype: object\n"
     ]
    }
   ],
   "source": [
    "counter = 0\n",
    "for x in info.columns:\n",
    "    counter += 1\n",
    "    clear_output(wait = True)\n",
    "    print(f\"Iteration: {counter} Column: {x}\\n\", info[x])\n",
    "    time.sleep(0.2)"
   ]
  },
  {
   "cell_type": "code",
   "execution_count": 97,
   "id": "10973205",
   "metadata": {},
   "outputs": [
    {
     "data": {
      "text/plain": [
       "0      0%\n",
       "1      0%\n",
       "2      0%\n",
       "3      0%\n",
       "4      0%\n",
       "       ..\n",
       "208    0%\n",
       "209    0%\n",
       "210    0%\n",
       "211    0%\n",
       "212    0%\n",
       "Name: Unnamed: 62, Length: 213, dtype: object"
      ]
     },
     "execution_count": 97,
     "metadata": {},
     "output_type": "execute_result"
    }
   ],
   "source": [
    "info.iloc[:,62]"
   ]
  },
  {
   "cell_type": "code",
   "execution_count": 98,
   "id": "de9c3c0e",
   "metadata": {},
   "outputs": [
    {
     "data": {
      "text/plain": [
       "False"
      ]
     },
     "execution_count": 98,
     "metadata": {},
     "output_type": "execute_result"
    }
   ],
   "source": [
    "info.iloc[:,62].isnull().all()"
   ]
  },
  {
   "cell_type": "code",
   "execution_count": 99,
   "id": "cda22e8e",
   "metadata": {},
   "outputs": [
    {
     "data": {
      "text/plain": [
       "False"
      ]
     },
     "execution_count": 99,
     "metadata": {},
     "output_type": "execute_result"
    }
   ],
   "source": [
    "x = \"Rank\"\n",
    "# info.loc[:,x]\n",
    "info.loc[:,x].isnull().all()"
   ]
  },
  {
   "cell_type": "code",
   "execution_count": 100,
   "id": "5469e8e9",
   "metadata": {},
   "outputs": [
    {
     "data": {
      "text/plain": [
       "['Unnamed: 10',\n",
       " 'Unnamed: 14',\n",
       " 'Unnamed: 19',\n",
       " 'Unnamed: 21',\n",
       " 'Unnamed: 23',\n",
       " 'Unnamed: 25',\n",
       " 'Unnamed: 27',\n",
       " 'Unnamed: 29',\n",
       " 'Unnamed: 31',\n",
       " 'Unnamed: 33',\n",
       " 'Unnamed: 35',\n",
       " 'Unnamed: 37',\n",
       " 'Unnamed: 39',\n",
       " 'Unnamed: 41',\n",
       " 'Unnamed: 43',\n",
       " 'Unnamed: 46',\n",
       " 'Unnamed: 48',\n",
       " 'Unnamed: 50',\n",
       " 'Unnamed: 52',\n",
       " 'Unnamed: 54',\n",
       " 'Unnamed: 56',\n",
       " 'Unnamed: 58',\n",
       " 'Unnamed: 60',\n",
       " 'Unnamed: 62',\n",
       " 'Unnamed: 64']"
      ]
     },
     "execution_count": 100,
     "metadata": {},
     "output_type": "execute_result"
    }
   ],
   "source": [
    "null_columns = []\n",
    "not_null_columns = []\n",
    "leftover_columns = []\n",
    "\n",
    "for x in info.columns:\n",
    "    if \"Unnamed\" not in x and info.loc[:,x].isnull().all() == False:\n",
    "        not_null_columns.append(x)\n",
    "    elif \"Unnamed\" in x and info.loc[:,x].isnull().all() == False:\n",
    "        leftover_columns.append(x)\n",
    "    else:\n",
    "        if info.loc[:,x].isnull().all():\n",
    "            null_columns.append(x)\n",
    "\n",
    "null_columns\n",
    "not_null_columns\n",
    "leftover_columns"
   ]
  },
  {
   "cell_type": "code",
   "execution_count": 101,
   "id": "58bbd142",
   "metadata": {},
   "outputs": [
    {
     "name": "stdout",
     "output_type": "stream",
     "text": [
      "['Unnamed: 2', 'Unnamed: 3', 'Unnamed: 4', 'Unnamed: 5', 'Unnamed: 6', 'Unnamed: 7', 'Unnamed: 9', 'Unnamed: 12', 'Unnamed: 13', 'Unnamed: 15', 'Unnamed: 17', 'Unnamed: 18', 'Claims Opened', 'Unnamed: 45', 'Claims Closed', 'Claims Pending', 'Claims Alternative Dispute', 'Claims with Mediation', 'Claims with Arbitration', 'Claims with Appraisal', 'Claims with Sink Hole Eval', 'Claims with Settlement Conf', 'Claims with Other']\n",
      "['Rank', 'Insurer Name', 'Policies In Force', 'Total $ value of exposure for policies in force that include wind coverage', 'Number of policies canceled', 'Number of policies nonrenewed', 'Number of policies canceled due to hurricane risk', 'Number of policies nonrenewed due to hurricane risk', 'Number of new policies written', 'Policies in force that exclude wind coverage', 'Total premiums written', 'Policies in force that include wind coverage', 'Total $ value of exposure for policies in force that exclude wind coverage', 'Direct premium written for policies in force that include wind coverage', 'Direct premium written for policies in force that exclude wind coverage', 'Number of policies transferred to other insurers', 'Number of policies received from other insurers']\n",
      "['Unnamed: 10', 'Unnamed: 14', 'Unnamed: 19', 'Unnamed: 21', 'Unnamed: 23', 'Unnamed: 25', 'Unnamed: 27', 'Unnamed: 29', 'Unnamed: 31', 'Unnamed: 33', 'Unnamed: 35', 'Unnamed: 37', 'Unnamed: 39', 'Unnamed: 41', 'Unnamed: 43', 'Unnamed: 46', 'Unnamed: 48', 'Unnamed: 50', 'Unnamed: 52', 'Unnamed: 54', 'Unnamed: 56', 'Unnamed: 58', 'Unnamed: 60', 'Unnamed: 62', 'Unnamed: 64']\n"
     ]
    }
   ],
   "source": [
    "print(null_columns)\n",
    "print(not_null_columns)\n",
    "print(leftover_columns)"
   ]
  },
  {
   "cell_type": "code",
   "execution_count": 102,
   "id": "fca1ecb1",
   "metadata": {},
   "outputs": [
    {
     "data": {
      "text/html": [
       "<div>\n",
       "<style scoped>\n",
       "    .dataframe tbody tr th:only-of-type {\n",
       "        vertical-align: middle;\n",
       "    }\n",
       "\n",
       "    .dataframe tbody tr th {\n",
       "        vertical-align: top;\n",
       "    }\n",
       "\n",
       "    .dataframe thead th {\n",
       "        text-align: right;\n",
       "    }\n",
       "</style>\n",
       "<table border=\"1\" class=\"dataframe\">\n",
       "  <thead>\n",
       "    <tr style=\"text-align: right;\">\n",
       "      <th></th>\n",
       "      <th>Unnamed: 2</th>\n",
       "      <th>Unnamed: 3</th>\n",
       "      <th>Unnamed: 4</th>\n",
       "      <th>Unnamed: 5</th>\n",
       "      <th>Unnamed: 6</th>\n",
       "      <th>Unnamed: 7</th>\n",
       "      <th>Unnamed: 9</th>\n",
       "      <th>Unnamed: 12</th>\n",
       "      <th>Unnamed: 13</th>\n",
       "      <th>Unnamed: 15</th>\n",
       "      <th>...</th>\n",
       "      <th>Unnamed: 45</th>\n",
       "      <th>Claims Closed</th>\n",
       "      <th>Claims Pending</th>\n",
       "      <th>Claims Alternative Dispute</th>\n",
       "      <th>Claims with Mediation</th>\n",
       "      <th>Claims with Arbitration</th>\n",
       "      <th>Claims with Appraisal</th>\n",
       "      <th>Claims with Sink Hole Eval</th>\n",
       "      <th>Claims with Settlement Conf</th>\n",
       "      <th>Claims with Other</th>\n",
       "    </tr>\n",
       "  </thead>\n",
       "  <tbody>\n",
       "    <tr>\n",
       "      <th>0</th>\n",
       "      <td>NaN</td>\n",
       "      <td>NaN</td>\n",
       "      <td>NaN</td>\n",
       "      <td>NaN</td>\n",
       "      <td>NaN</td>\n",
       "      <td>NaN</td>\n",
       "      <td>NaN</td>\n",
       "      <td>NaN</td>\n",
       "      <td>NaN</td>\n",
       "      <td>NaN</td>\n",
       "      <td>...</td>\n",
       "      <td>NaN</td>\n",
       "      <td>NaN</td>\n",
       "      <td>NaN</td>\n",
       "      <td>NaN</td>\n",
       "      <td>NaN</td>\n",
       "      <td>NaN</td>\n",
       "      <td>NaN</td>\n",
       "      <td>NaN</td>\n",
       "      <td>NaN</td>\n",
       "      <td>NaN</td>\n",
       "    </tr>\n",
       "    <tr>\n",
       "      <th>1</th>\n",
       "      <td>NaN</td>\n",
       "      <td>NaN</td>\n",
       "      <td>NaN</td>\n",
       "      <td>NaN</td>\n",
       "      <td>NaN</td>\n",
       "      <td>NaN</td>\n",
       "      <td>NaN</td>\n",
       "      <td>NaN</td>\n",
       "      <td>NaN</td>\n",
       "      <td>NaN</td>\n",
       "      <td>...</td>\n",
       "      <td>NaN</td>\n",
       "      <td>NaN</td>\n",
       "      <td>NaN</td>\n",
       "      <td>NaN</td>\n",
       "      <td>NaN</td>\n",
       "      <td>NaN</td>\n",
       "      <td>NaN</td>\n",
       "      <td>NaN</td>\n",
       "      <td>NaN</td>\n",
       "      <td>NaN</td>\n",
       "    </tr>\n",
       "    <tr>\n",
       "      <th>2</th>\n",
       "      <td>NaN</td>\n",
       "      <td>NaN</td>\n",
       "      <td>NaN</td>\n",
       "      <td>NaN</td>\n",
       "      <td>NaN</td>\n",
       "      <td>NaN</td>\n",
       "      <td>NaN</td>\n",
       "      <td>NaN</td>\n",
       "      <td>NaN</td>\n",
       "      <td>NaN</td>\n",
       "      <td>...</td>\n",
       "      <td>NaN</td>\n",
       "      <td>NaN</td>\n",
       "      <td>NaN</td>\n",
       "      <td>NaN</td>\n",
       "      <td>NaN</td>\n",
       "      <td>NaN</td>\n",
       "      <td>NaN</td>\n",
       "      <td>NaN</td>\n",
       "      <td>NaN</td>\n",
       "      <td>NaN</td>\n",
       "    </tr>\n",
       "    <tr>\n",
       "      <th>3</th>\n",
       "      <td>NaN</td>\n",
       "      <td>NaN</td>\n",
       "      <td>NaN</td>\n",
       "      <td>NaN</td>\n",
       "      <td>NaN</td>\n",
       "      <td>NaN</td>\n",
       "      <td>NaN</td>\n",
       "      <td>NaN</td>\n",
       "      <td>NaN</td>\n",
       "      <td>NaN</td>\n",
       "      <td>...</td>\n",
       "      <td>NaN</td>\n",
       "      <td>NaN</td>\n",
       "      <td>NaN</td>\n",
       "      <td>NaN</td>\n",
       "      <td>NaN</td>\n",
       "      <td>NaN</td>\n",
       "      <td>NaN</td>\n",
       "      <td>NaN</td>\n",
       "      <td>NaN</td>\n",
       "      <td>NaN</td>\n",
       "    </tr>\n",
       "    <tr>\n",
       "      <th>4</th>\n",
       "      <td>NaN</td>\n",
       "      <td>NaN</td>\n",
       "      <td>NaN</td>\n",
       "      <td>NaN</td>\n",
       "      <td>NaN</td>\n",
       "      <td>NaN</td>\n",
       "      <td>NaN</td>\n",
       "      <td>NaN</td>\n",
       "      <td>NaN</td>\n",
       "      <td>NaN</td>\n",
       "      <td>...</td>\n",
       "      <td>NaN</td>\n",
       "      <td>NaN</td>\n",
       "      <td>NaN</td>\n",
       "      <td>NaN</td>\n",
       "      <td>NaN</td>\n",
       "      <td>NaN</td>\n",
       "      <td>NaN</td>\n",
       "      <td>NaN</td>\n",
       "      <td>NaN</td>\n",
       "      <td>NaN</td>\n",
       "    </tr>\n",
       "    <tr>\n",
       "      <th>...</th>\n",
       "      <td>...</td>\n",
       "      <td>...</td>\n",
       "      <td>...</td>\n",
       "      <td>...</td>\n",
       "      <td>...</td>\n",
       "      <td>...</td>\n",
       "      <td>...</td>\n",
       "      <td>...</td>\n",
       "      <td>...</td>\n",
       "      <td>...</td>\n",
       "      <td>...</td>\n",
       "      <td>...</td>\n",
       "      <td>...</td>\n",
       "      <td>...</td>\n",
       "      <td>...</td>\n",
       "      <td>...</td>\n",
       "      <td>...</td>\n",
       "      <td>...</td>\n",
       "      <td>...</td>\n",
       "      <td>...</td>\n",
       "      <td>...</td>\n",
       "    </tr>\n",
       "    <tr>\n",
       "      <th>208</th>\n",
       "      <td>NaN</td>\n",
       "      <td>NaN</td>\n",
       "      <td>NaN</td>\n",
       "      <td>NaN</td>\n",
       "      <td>NaN</td>\n",
       "      <td>NaN</td>\n",
       "      <td>NaN</td>\n",
       "      <td>NaN</td>\n",
       "      <td>NaN</td>\n",
       "      <td>NaN</td>\n",
       "      <td>...</td>\n",
       "      <td>NaN</td>\n",
       "      <td>NaN</td>\n",
       "      <td>NaN</td>\n",
       "      <td>NaN</td>\n",
       "      <td>NaN</td>\n",
       "      <td>NaN</td>\n",
       "      <td>NaN</td>\n",
       "      <td>NaN</td>\n",
       "      <td>NaN</td>\n",
       "      <td>NaN</td>\n",
       "    </tr>\n",
       "    <tr>\n",
       "      <th>209</th>\n",
       "      <td>NaN</td>\n",
       "      <td>NaN</td>\n",
       "      <td>NaN</td>\n",
       "      <td>NaN</td>\n",
       "      <td>NaN</td>\n",
       "      <td>NaN</td>\n",
       "      <td>NaN</td>\n",
       "      <td>NaN</td>\n",
       "      <td>NaN</td>\n",
       "      <td>NaN</td>\n",
       "      <td>...</td>\n",
       "      <td>NaN</td>\n",
       "      <td>NaN</td>\n",
       "      <td>NaN</td>\n",
       "      <td>NaN</td>\n",
       "      <td>NaN</td>\n",
       "      <td>NaN</td>\n",
       "      <td>NaN</td>\n",
       "      <td>NaN</td>\n",
       "      <td>NaN</td>\n",
       "      <td>NaN</td>\n",
       "    </tr>\n",
       "    <tr>\n",
       "      <th>210</th>\n",
       "      <td>NaN</td>\n",
       "      <td>NaN</td>\n",
       "      <td>NaN</td>\n",
       "      <td>NaN</td>\n",
       "      <td>NaN</td>\n",
       "      <td>NaN</td>\n",
       "      <td>NaN</td>\n",
       "      <td>NaN</td>\n",
       "      <td>NaN</td>\n",
       "      <td>NaN</td>\n",
       "      <td>...</td>\n",
       "      <td>NaN</td>\n",
       "      <td>NaN</td>\n",
       "      <td>NaN</td>\n",
       "      <td>NaN</td>\n",
       "      <td>NaN</td>\n",
       "      <td>NaN</td>\n",
       "      <td>NaN</td>\n",
       "      <td>NaN</td>\n",
       "      <td>NaN</td>\n",
       "      <td>NaN</td>\n",
       "    </tr>\n",
       "    <tr>\n",
       "      <th>211</th>\n",
       "      <td>NaN</td>\n",
       "      <td>NaN</td>\n",
       "      <td>NaN</td>\n",
       "      <td>NaN</td>\n",
       "      <td>NaN</td>\n",
       "      <td>NaN</td>\n",
       "      <td>NaN</td>\n",
       "      <td>NaN</td>\n",
       "      <td>NaN</td>\n",
       "      <td>NaN</td>\n",
       "      <td>...</td>\n",
       "      <td>NaN</td>\n",
       "      <td>NaN</td>\n",
       "      <td>NaN</td>\n",
       "      <td>NaN</td>\n",
       "      <td>NaN</td>\n",
       "      <td>NaN</td>\n",
       "      <td>NaN</td>\n",
       "      <td>NaN</td>\n",
       "      <td>NaN</td>\n",
       "      <td>NaN</td>\n",
       "    </tr>\n",
       "    <tr>\n",
       "      <th>212</th>\n",
       "      <td>NaN</td>\n",
       "      <td>NaN</td>\n",
       "      <td>NaN</td>\n",
       "      <td>NaN</td>\n",
       "      <td>NaN</td>\n",
       "      <td>NaN</td>\n",
       "      <td>NaN</td>\n",
       "      <td>NaN</td>\n",
       "      <td>NaN</td>\n",
       "      <td>NaN</td>\n",
       "      <td>...</td>\n",
       "      <td>NaN</td>\n",
       "      <td>NaN</td>\n",
       "      <td>NaN</td>\n",
       "      <td>NaN</td>\n",
       "      <td>NaN</td>\n",
       "      <td>NaN</td>\n",
       "      <td>NaN</td>\n",
       "      <td>NaN</td>\n",
       "      <td>NaN</td>\n",
       "      <td>NaN</td>\n",
       "    </tr>\n",
       "  </tbody>\n",
       "</table>\n",
       "<p>213 rows × 23 columns</p>\n",
       "</div>"
      ],
      "text/plain": [
       "     Unnamed: 2  Unnamed: 3  Unnamed: 4  Unnamed: 5  Unnamed: 6  Unnamed: 7  \\\n",
       "0           NaN         NaN         NaN         NaN         NaN         NaN   \n",
       "1           NaN         NaN         NaN         NaN         NaN         NaN   \n",
       "2           NaN         NaN         NaN         NaN         NaN         NaN   \n",
       "3           NaN         NaN         NaN         NaN         NaN         NaN   \n",
       "4           NaN         NaN         NaN         NaN         NaN         NaN   \n",
       "..          ...         ...         ...         ...         ...         ...   \n",
       "208         NaN         NaN         NaN         NaN         NaN         NaN   \n",
       "209         NaN         NaN         NaN         NaN         NaN         NaN   \n",
       "210         NaN         NaN         NaN         NaN         NaN         NaN   \n",
       "211         NaN         NaN         NaN         NaN         NaN         NaN   \n",
       "212         NaN         NaN         NaN         NaN         NaN         NaN   \n",
       "\n",
       "     Unnamed: 9  Unnamed: 12  Unnamed: 13  Unnamed: 15  ...  Unnamed: 45  \\\n",
       "0           NaN          NaN          NaN          NaN  ...          NaN   \n",
       "1           NaN          NaN          NaN          NaN  ...          NaN   \n",
       "2           NaN          NaN          NaN          NaN  ...          NaN   \n",
       "3           NaN          NaN          NaN          NaN  ...          NaN   \n",
       "4           NaN          NaN          NaN          NaN  ...          NaN   \n",
       "..          ...          ...          ...          ...  ...          ...   \n",
       "208         NaN          NaN          NaN          NaN  ...          NaN   \n",
       "209         NaN          NaN          NaN          NaN  ...          NaN   \n",
       "210         NaN          NaN          NaN          NaN  ...          NaN   \n",
       "211         NaN          NaN          NaN          NaN  ...          NaN   \n",
       "212         NaN          NaN          NaN          NaN  ...          NaN   \n",
       "\n",
       "     Claims Closed  Claims Pending  Claims Alternative Dispute  \\\n",
       "0              NaN             NaN                         NaN   \n",
       "1              NaN             NaN                         NaN   \n",
       "2              NaN             NaN                         NaN   \n",
       "3              NaN             NaN                         NaN   \n",
       "4              NaN             NaN                         NaN   \n",
       "..             ...             ...                         ...   \n",
       "208            NaN             NaN                         NaN   \n",
       "209            NaN             NaN                         NaN   \n",
       "210            NaN             NaN                         NaN   \n",
       "211            NaN             NaN                         NaN   \n",
       "212            NaN             NaN                         NaN   \n",
       "\n",
       "     Claims with Mediation  Claims with Arbitration  Claims with Appraisal  \\\n",
       "0                      NaN                      NaN                    NaN   \n",
       "1                      NaN                      NaN                    NaN   \n",
       "2                      NaN                      NaN                    NaN   \n",
       "3                      NaN                      NaN                    NaN   \n",
       "4                      NaN                      NaN                    NaN   \n",
       "..                     ...                      ...                    ...   \n",
       "208                    NaN                      NaN                    NaN   \n",
       "209                    NaN                      NaN                    NaN   \n",
       "210                    NaN                      NaN                    NaN   \n",
       "211                    NaN                      NaN                    NaN   \n",
       "212                    NaN                      NaN                    NaN   \n",
       "\n",
       "     Claims with Sink Hole Eval  Claims with Settlement Conf  \\\n",
       "0                           NaN                          NaN   \n",
       "1                           NaN                          NaN   \n",
       "2                           NaN                          NaN   \n",
       "3                           NaN                          NaN   \n",
       "4                           NaN                          NaN   \n",
       "..                          ...                          ...   \n",
       "208                         NaN                          NaN   \n",
       "209                         NaN                          NaN   \n",
       "210                         NaN                          NaN   \n",
       "211                         NaN                          NaN   \n",
       "212                         NaN                          NaN   \n",
       "\n",
       "     Claims with Other  \n",
       "0                  NaN  \n",
       "1                  NaN  \n",
       "2                  NaN  \n",
       "3                  NaN  \n",
       "4                  NaN  \n",
       "..                 ...  \n",
       "208                NaN  \n",
       "209                NaN  \n",
       "210                NaN  \n",
       "211                NaN  \n",
       "212                NaN  \n",
       "\n",
       "[213 rows x 23 columns]"
      ]
     },
     "execution_count": 102,
     "metadata": {},
     "output_type": "execute_result"
    }
   ],
   "source": [
    "info[null_columns]"
   ]
  },
  {
   "cell_type": "code",
   "execution_count": 115,
   "id": "0c3400a6",
   "metadata": {},
   "outputs": [],
   "source": [
    "# pandas display options - https://pandas.pydata.org/docs/user_guide/options.html\n",
    "\n",
    "pd.options.display.max_rows\n",
    "# pd.options.display.max_columns = 50\n",
    "pd.reset_option(\"display.max_columns\")"
   ]
  },
  {
   "cell_type": "code",
   "execution_count": null,
   "id": "3c26169f",
   "metadata": {},
   "outputs": [
    {
     "data": {
      "text/plain": [
       "(213, 42)"
      ]
     },
     "execution_count": 118,
     "metadata": {},
     "output_type": "execute_result"
    }
   ],
   "source": [
    "mod_df = info.copy().drop(labels=null_columns, axis = 1)\n",
    "\n",
    "mod_df.shape"
   ]
  },
  {
   "cell_type": "code",
   "execution_count": 104,
   "id": "e0487db9",
   "metadata": {},
   "outputs": [
    {
     "name": "stdout",
     "output_type": "stream",
     "text": [
      "    Rank                                     Insurer Name  Policies In Force  \\\n",
      "0      1          CITIZENS PROPERTY INSURANCE CORPORATION            1005077   \n",
      "1      2             STATE FARM FLORIDA INSURANCE COMPANY             853867   \n",
      "2      3  UNIVERSAL PROPERTY & CASUALTY INSURANCE COMPANY             498139   \n",
      "3      4                ST. JOHNS INSURANCE COMPANY, INC.             204409   \n",
      "4      5           UNITED SERVICES AUTOMOBILE ASSOCIATION             163850   \n",
      "..   ...                                              ...                ...   \n",
      "208  209              AMERICAN COMMERCE INSURANCE COMPANY                  0   \n",
      "209  210      AMERICAN GENERAL PROPERTY INS CO OF FLORIDA                  0   \n",
      "210  211                  EMC PROPERTY & CASUALTY COMPANY                  0   \n",
      "211  212            STATE NATIONAL INSURANCE COMPANY INC.                  0   \n",
      "212  213                  TESLA PROPERTY & CASUALTY, INC.                  0   \n",
      "\n",
      "    Unnamed: 10  \\\n",
      "0        16.20%   \n",
      "1        13.77%   \n",
      "2         8.03%   \n",
      "3         3.30%   \n",
      "4         2.64%   \n",
      "..          ...   \n",
      "208          0%   \n",
      "209          0%   \n",
      "210          0%   \n",
      "211          0%   \n",
      "212          0%   \n",
      "\n",
      "     Total $ value of exposure for policies in force that include wind coverage  \\\n",
      "0                                         3.722960e+11                            \n",
      "1                                         3.630460e+11                            \n",
      "2                                         1.062854e+11                            \n",
      "3                                         7.666128e+10                            \n",
      "4                                         6.551545e+10                            \n",
      "..                                                 ...                            \n",
      "208                                       0.000000e+00                            \n",
      "209                                       0.000000e+00                            \n",
      "210                                       0.000000e+00                            \n",
      "211                                       0.000000e+00                            \n",
      "212                                       0.000000e+00                            \n",
      "\n",
      "    Unnamed: 14  Number of policies canceled Unnamed: 19  \\\n",
      "0        17.68%                        46264      17.88%   \n",
      "1        17.24%                        42925      16.59%   \n",
      "2         5.05%                        11644       4.50%   \n",
      "3         3.64%                         8678       3.35%   \n",
      "4         3.11%                         3040       1.17%   \n",
      "..          ...                          ...         ...   \n",
      "208          0%                            1          0%   \n",
      "209          0%                            2          0%   \n",
      "210          0%                            2          0%   \n",
      "211          0%                            0          0%   \n",
      "212          0%                            0          0%   \n",
      "\n",
      "     Number of policies nonrenewed Unnamed: 21  ...  Unnamed: 46 Unnamed: 48  \\\n",
      "0                            68660      41.17%  ...           0%          0%   \n",
      "1                            12090       7.25%  ...           0%          0%   \n",
      "2                            15616       9.36%  ...           0%          0%   \n",
      "3                              150       0.09%  ...           0%          0%   \n",
      "4                              983       0.59%  ...           0%          0%   \n",
      "..                             ...         ...  ...          ...         ...   \n",
      "208                              0          0%  ...           0%          0%   \n",
      "209                              0          0%  ...           0%          0%   \n",
      "210                              0          0%  ...           0%          0%   \n",
      "211                              0          0%  ...           0%          0%   \n",
      "212                              3          0%  ...           0%          0%   \n",
      "\n",
      "     Unnamed: 50 Unnamed: 52  Unnamed: 54 Unnamed: 56  Unnamed: 58  \\\n",
      "0             0%          0%           0%          0%           0%   \n",
      "1             0%          0%           0%          0%           0%   \n",
      "2             0%          0%           0%          0%           0%   \n",
      "3             0%          0%           0%          0%           0%   \n",
      "4             0%          0%           0%          0%           0%   \n",
      "..           ...         ...          ...         ...          ...   \n",
      "208           0%          0%           0%          0%           0%   \n",
      "209           0%          0%           0%          0%           0%   \n",
      "210           0%          0%           0%          0%           0%   \n",
      "211           0%          0%           0%          0%           0%   \n",
      "212           0%          0%           0%          0%           0%   \n",
      "\n",
      "    Unnamed: 60  Unnamed: 62 Unnamed: 64  \n",
      "0            0%           0%          0%  \n",
      "1            0%           0%          0%  \n",
      "2            0%           0%          0%  \n",
      "3            0%           0%          0%  \n",
      "4            0%           0%          0%  \n",
      "..          ...          ...         ...  \n",
      "208          0%           0%          0%  \n",
      "209          0%           0%          0%  \n",
      "210          0%           0%          0%  \n",
      "211          0%           0%          0%  \n",
      "212          0%           0%          0%  \n",
      "\n",
      "[213 rows x 42 columns]\n"
     ]
    }
   ],
   "source": [
    "print(mod_df)"
   ]
  },
  {
   "cell_type": "code",
   "execution_count": 105,
   "id": "a5e3c81f",
   "metadata": {},
   "outputs": [
    {
     "data": {
      "text/plain": [
       "0       3.93%\n",
       "1      11.71%\n",
       "2       0.68%\n",
       "3       0.14%\n",
       "4       4.36%\n",
       "        ...  \n",
       "208        0%\n",
       "209        0%\n",
       "210        0%\n",
       "211        0%\n",
       "212        0%\n",
       "Name: Unnamed: 35, Length: 213, dtype: object"
      ]
     },
     "execution_count": 105,
     "metadata": {},
     "output_type": "execute_result"
    }
   ],
   "source": [
    "info.loc[:,'Unnamed: 35']"
   ]
  },
  {
   "cell_type": "code",
   "execution_count": 106,
   "id": "4dc75c19",
   "metadata": {},
   "outputs": [
    {
     "name": "stdout",
     "output_type": "stream",
     "text": [
      "Item 4\n",
      "\n"
     ]
    }
   ],
   "source": [
    "import time\n",
    "\n",
    "items = [\"Item 1\", \"Item 2\", \"Item 3\", \"Item 4\"]\n",
    "\n",
    "for item in items:\n",
    "    clear_output(wait = True)\n",
    "    print(item)\n",
    "    time.sleep(1)\n",
    "\n",
    "# Optionally move to a new line after the loop\n",
    "print()\n"
   ]
  },
  {
   "cell_type": "code",
   "execution_count": 107,
   "id": "d35a39fe",
   "metadata": {},
   "outputs": [
    {
     "ename": "ModuleNotFoundError",
     "evalue": "No module named 'ipywidgets'",
     "output_type": "error",
     "traceback": [
      "\u001b[0;31m---------------------------------------------------------------------------\u001b[0m",
      "\u001b[0;31mModuleNotFoundError\u001b[0m                       Traceback (most recent call last)",
      "Cell \u001b[0;32mIn[107], line 4\u001b[0m\n\u001b[1;32m      1\u001b[0m \u001b[38;5;66;03m# chatty G getting wild\u001b[39;00m\n\u001b[1;32m      3\u001b[0m \u001b[38;5;28;01mfrom\u001b[39;00m \u001b[38;5;21;01mIPython\u001b[39;00m\u001b[38;5;21;01m.\u001b[39;00m\u001b[38;5;21;01mdisplay\u001b[39;00m \u001b[38;5;28;01mimport\u001b[39;00m display, clear_output\n\u001b[0;32m----> 4\u001b[0m \u001b[38;5;28;01mimport\u001b[39;00m \u001b[38;5;21;01mipywidgets\u001b[39;00m \u001b[38;5;28;01mas\u001b[39;00m \u001b[38;5;21;01mwidgets\u001b[39;00m\n\u001b[1;32m      6\u001b[0m items \u001b[38;5;241m=\u001b[39m [\u001b[38;5;124m\"\u001b[39m\u001b[38;5;124mApple\u001b[39m\u001b[38;5;124m\"\u001b[39m, \u001b[38;5;124m\"\u001b[39m\u001b[38;5;124mBanana\u001b[39m\u001b[38;5;124m\"\u001b[39m, \u001b[38;5;124m\"\u001b[39m\u001b[38;5;124mCherry\u001b[39m\u001b[38;5;124m\"\u001b[39m, \u001b[38;5;124m\"\u001b[39m\u001b[38;5;124mDate\u001b[39m\u001b[38;5;124m\"\u001b[39m]\n\u001b[1;32m      7\u001b[0m saved_items \u001b[38;5;241m=\u001b[39m []\n",
      "\u001b[0;31mModuleNotFoundError\u001b[0m: No module named 'ipywidgets'"
     ]
    }
   ],
   "source": [
    "# chatty G getting wild\n",
    "\n",
    "from IPython.display import display, clear_output\n",
    "import ipywidgets as widgets\n",
    "\n",
    "items = [\"Apple\", \"Banana\", \"Cherry\", \"Date\"]\n",
    "saved_items = []\n",
    "index = 0  # Keeps track of which item we're on\n",
    "\n",
    "# Buttons\n",
    "save_button = widgets.Button(description=\"Save\")\n",
    "skip_button = widgets.Button(description=\"Skip\")\n",
    "output = widgets.Output()\n",
    "\n",
    "def handle_click(button):\n",
    "    global index\n",
    "    if button == save_button:\n",
    "        saved_items.append(items[index])\n",
    "    \n",
    "    index += 1\n",
    "    if index < len(items):\n",
    "        show_item()\n",
    "    else:\n",
    "        clear_output()\n",
    "        print(\"Done! Saved items:\", saved_items)\n",
    "\n",
    "def show_item():\n",
    "    clear_output(wait=True)\n",
    "    print(\"Current item:\", items[index])\n",
    "    display(save_button, skip_button)\n",
    "\n",
    "save_button.on_click(handle_click)\n",
    "skip_button.on_click(handle_click)\n",
    "\n",
    "# Start it off\n",
    "show_item()\n"
   ]
  }
 ],
 "metadata": {
  "kernelspec": {
   "display_name": "AKStandard",
   "language": "python",
   "name": "python3"
  },
  "language_info": {
   "codemirror_mode": {
    "name": "ipython",
    "version": 3
   },
   "file_extension": ".py",
   "mimetype": "text/x-python",
   "name": "python",
   "nbconvert_exporter": "python",
   "pygments_lexer": "ipython3",
   "version": "3.11.9"
  }
 },
 "nbformat": 4,
 "nbformat_minor": 5
}
