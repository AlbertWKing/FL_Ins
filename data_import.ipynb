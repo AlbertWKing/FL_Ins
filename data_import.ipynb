{
 "cells": [
  {
   "cell_type": "markdown",
   "id": "3321b37d",
   "metadata": {},
   "source": [
    "# About Florida Insurance Analysis\n",
    "\n",
    "Book combines historical publicly reported data from the FL department of insurance to evaluate trends in market share, claims frequency/severity, and hurricane losses.\n",
    "\n",
    "Data downloaded from https://apps.fldfs.com/QSRNG/Reports/ReportCriteria.aspx on 04 and 05 April 2025.\n",
    "\n",
    "Environment AKStandard (Python 3.11.9)"
   ]
  },
  {
   "cell_type": "markdown",
   "id": "f5220355",
   "metadata": {},
   "source": [
    "# Imports"
   ]
  },
  {
   "cell_type": "code",
   "execution_count": 112,
   "id": "91451052",
   "metadata": {},
   "outputs": [],
   "source": [
    "import pandas as pd # data ingestion, manipulation\n",
    "from os import listdir # importing raw data"
   ]
  },
  {
   "cell_type": "markdown",
   "id": "c62ce410",
   "metadata": {},
   "source": [
    "# Data Extraction/Ingestion"
   ]
  },
  {
   "cell_type": "markdown",
   "id": "14b78bcc",
   "metadata": {},
   "source": [
    "Outline/Plan\n",
    "\n",
    "function - import, remove grand total\\\n",
    "function - check/remove blank columns\\\n",
    "compile to a single df\\\n",
    "\\\n",
    "future: move to AW S3 bucket, SQL access"
   ]
  },
  {
   "cell_type": "code",
   "execution_count": 113,
   "id": "352bf436",
   "metadata": {},
   "outputs": [],
   "source": [
    "# listdir('./data/raw')[-1]"
   ]
  },
  {
   "cell_type": "code",
   "execution_count": 114,
   "id": "85fb1d81",
   "metadata": {},
   "outputs": [
    {
     "name": "stdout",
     "output_type": "stream",
     "text": [
      "The imported shape is: (214, 65)\n",
      "The last named insurers are:\n",
      "212    TESLA PROPERTY & CASUALTY, INC.\n",
      "213                                NaN\n",
      "Name: Insurer Name, dtype: object\n",
      "\n",
      "The updated shape is: (213, 65)\n",
      "The last named insurers are:\n",
      "211    STATE NATIONAL INSURANCE COMPANY INC.\n",
      "212          TESLA PROPERTY & CASUALTY, INC.\n",
      "Name: Insurer Name, dtype: object\n"
     ]
    }
   ],
   "source": [
    "info = pd.read_excel('./data/raw/2009Q1.xlsx', skiprows = 14)\n",
    "print(f\"The imported shape is: {info.shape}\\nThe last named insurers are:\\n{info.iloc[-2:,1]}\\n\")\n",
    "grand_total_row = info.shape[0] - 1\n",
    "info.drop(grand_total_row, axis=0, inplace=True)\n",
    "print(f\"The updated shape is: {info.shape}\\nThe last named insurers are:\\n{info.iloc[-2:,1]}\")"
   ]
  },
  {
   "cell_type": "code",
   "execution_count": 120,
   "id": "286a4ad5",
   "metadata": {},
   "outputs": [
    {
     "data": {
      "text/plain": [
       "Index(['Rank', 'Insurer Name', 'Unnamed: 2', 'Unnamed: 3', 'Unnamed: 4',\n",
       "       'Unnamed: 5', 'Unnamed: 6', 'Unnamed: 7', 'Policies In Force',\n",
       "       'Unnamed: 9', 'Unnamed: 10',\n",
       "       'Total $ value of exposure for policies in force that include wind coverage',\n",
       "       'Unnamed: 12', 'Unnamed: 13', 'Unnamed: 14', 'Unnamed: 15',\n",
       "       'Number of policies canceled', 'Unnamed: 17', 'Unnamed: 18',\n",
       "       'Unnamed: 19', 'Number of policies nonrenewed', 'Unnamed: 21',\n",
       "       'Number of policies canceled due to hurricane risk', 'Unnamed: 23',\n",
       "       'Number of policies nonrenewed due to hurricane risk', 'Unnamed: 25',\n",
       "       'Number of new policies written', 'Unnamed: 27',\n",
       "       'Policies in force that exclude wind coverage', 'Unnamed: 29',\n",
       "       'Total premiums written', 'Unnamed: 31',\n",
       "       'Policies in force that include wind coverage', 'Unnamed: 33',\n",
       "       'Total $ value of exposure for policies in force that exclude wind coverage',\n",
       "       'Unnamed: 35',\n",
       "       'Direct premium written for policies in force that include wind coverage',\n",
       "       'Unnamed: 37',\n",
       "       'Direct premium written for policies in force that exclude wind coverage',\n",
       "       'Unnamed: 39', 'Number of policies transferred to other insurers',\n",
       "       'Unnamed: 41', 'Number of policies received from other insurers',\n",
       "       'Unnamed: 43', 'Claims Opened', 'Unnamed: 45', 'Unnamed: 46',\n",
       "       'Claims Closed', 'Unnamed: 48', 'Claims Pending', 'Unnamed: 50',\n",
       "       'Claims Alternative Dispute', 'Unnamed: 52', 'Claims with Mediation',\n",
       "       'Unnamed: 54', 'Claims with Arbitration', 'Unnamed: 56',\n",
       "       'Claims with Appraisal', 'Unnamed: 58', 'Claims with Sink Hole Eval',\n",
       "       'Unnamed: 60', 'Claims with Settlement Conf', 'Unnamed: 62',\n",
       "       'Claims with Other', 'Unnamed: 64'],\n",
       "      dtype='object')"
      ]
     },
     "execution_count": 120,
     "metadata": {},
     "output_type": "execute_result"
    }
   ],
   "source": [
    "info.columns"
   ]
  }
 ],
 "metadata": {
  "kernelspec": {
   "display_name": "AKStandard",
   "language": "python",
   "name": "python3"
  },
  "language_info": {
   "codemirror_mode": {
    "name": "ipython",
    "version": 3
   },
   "file_extension": ".py",
   "mimetype": "text/x-python",
   "name": "python",
   "nbconvert_exporter": "python",
   "pygments_lexer": "ipython3",
   "version": "3.11.9"
  }
 },
 "nbformat": 4,
 "nbformat_minor": 5
}
